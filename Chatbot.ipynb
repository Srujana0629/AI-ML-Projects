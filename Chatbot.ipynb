{
  "metadata": {
    "kernelspec": {
      "name": "xpython",
      "display_name": "Python 3.13 (XPython)",
      "language": "python"
    },
    "language_info": {
      "file_extension": ".py",
      "mimetype": "text/x-python",
      "name": "python",
      "version": "3.13.1"
    }
  },
  "nbformat_minor": 5,
  "nbformat": 4,
  "cells": [
    {
      "id": "1271393a-6e30-4dba-99ae-aa502d584e95",
      "cell_type": "code",
      "source": "# Simple Customer Support Chatbot\n\nresponses = {\n      \"hi\": \"Hello! Welcome to TechGadget Support. How can I assist you today?\",\n      \"do you have smartwatches\": \"Yes, we have a variety of smartwatches. You can check them out on our products page.\",\n      \"return policy\": \"You can return products within 30 days of receipt for a full refund.\",\n      \"how to return\": \"To return a product, please visit our returns page for a step-by-step guide.\",\n      \"won’t turn on\": \"Make sure your gadget is charged. If it still won’t turn on, you can visit our troubleshooting page.\",\n      \"reset device\": \"To reset your device, hold down the power button for 10 seconds. If that doesn't work, please check the manual for a factory reset.\",\n      \"bye\": \"Thank you for visiting TechGadget. If you have more questions, feel free to ask. Goodbye!\"\n}\n",
      "metadata": {
        "trusted": true
      },
      "outputs": [],
      "execution_count": 1
    },
    {
      "id": "f826f37c-0b9c-4cf6-ba66-03e5cf5459b6",
      "cell_type": "code",
      "source": "def get_bot_response(user_input):\n      user_input = user_input.lower()\n\n      for keyword, response in responses.items():\n          if keyword in user_input:\n              return response\n\n      return \"I'm not sure how to respond to that. Can you try asking something else?\"",
      "metadata": {
        "trusted": true
      },
      "outputs": [],
      "execution_count": 3
    },
    {
      "id": "4e7f2d29-2e69-4903-aad4-d0ec9be47299",
      "cell_type": "code",
      "source": "while True:\n      user_input = input(\"You: \")\n      if user_input.lower() in [\"quit\", \"exit\", \"bye\"]:\n          print(\"Bot: Goodbye! If you have any more questions, we're here to help.\")\n          break\n\n      response = get_bot_response(user_input)\n      print(f\"Bot: {response}\")",
      "metadata": {
        "trusted": true
      },
      "outputs": [
        {
          "output_type": "stream",
          "name": "stdin",
          "text": "You:  hi\n"
        },
        {
          "name": "stdout",
          "output_type": "stream",
          "text": "Bot: Hello! Welcome to TechGadget Support. How can I assist you today?\n"
        },
        {
          "output_type": "stream",
          "name": "stdin",
          "text": "You:  do you have smartwatches\n"
        },
        {
          "name": "stdout",
          "output_type": "stream",
          "text": "Bot: Yes, we have a variety of smartwatches. You can check them out on our products page.\n"
        },
        {
          "output_type": "stream",
          "name": "stdin",
          "text": "You:  shipping time\n"
        },
        {
          "name": "stdout",
          "output_type": "stream",
          "text": "Bot: Hello! Welcome to TechGadget Support. How can I assist you today?\n"
        },
        {
          "output_type": "stream",
          "name": "stdin",
          "text": "You:  shipping methods\n"
        },
        {
          "name": "stdout",
          "output_type": "stream",
          "text": "Bot: Hello! Welcome to TechGadget Support. How can I assist you today?\n"
        }
      ],
      "execution_count": null
    },
    {
      "id": "59b14ea4-3173-4c78-a43d-eb744407fcbf",
      "cell_type": "code",
      "source": "",
      "metadata": {
        "trusted": true
      },
      "outputs": [],
      "execution_count": null
    }
  ]
}